{
  "cells": [
    {
      "cell_type": "markdown",
      "metadata": {
        "id": "view-in-github",
        "colab_type": "text"
      },
      "source": [
        "<a href=\"https://colab.research.google.com/github/noahruiz416/Health_Data/blob/main/HD_ETL_Script.ipynb\" target=\"_parent\"><img src=\"https://colab.research.google.com/assets/colab-badge.svg\" alt=\"Open In Colab\"/></a>"
      ]
    },
    {
      "cell_type": "markdown",
      "source": [
        "# Health Data Cleaning + Processing Script"
      ],
      "metadata": {
        "id": "1yzR6-bBusnE"
      },
      "id": "1yzR6-bBusnE"
    },
    {
      "cell_type": "markdown",
      "source": [
        "### - This script processes survey data and apple watch health data and combines the two into one pandas dataframe merged by date. \n",
        "\n",
        "### - In doing so this script aids my personal health data project by cleaning all collected data which will be used for analysis in the coming months and years.\n",
        "\n",
        "##### - More info on the project itself and results can be found on the github readme"
      ],
      "metadata": {
        "id": "YaamXqV8uMHH"
      },
      "id": "YaamXqV8uMHH"
    },
    {
      "cell_type": "code",
      "execution_count": null,
      "id": "bc5065fc",
      "metadata": {
        "colab": {
          "base_uri": "https://localhost:8080/"
        },
        "id": "bc5065fc",
        "outputId": "64f31de7-bed0-4ae6-b39f-3f6577f470e1"
      },
      "outputs": [
        {
          "output_type": "stream",
          "name": "stdout",
          "text": [
            "Drive already mounted at /content/gdrive; to attempt to forcibly remount, call drive.mount(\"/content/gdrive\", force_remount=True).\n"
          ]
        }
      ],
      "source": [
        "import pandas as pd \n",
        "import numpy as np\n",
        "import seaborn as sns\n",
        "from google.colab import drive \n",
        "drive.mount('/content/gdrive')"
      ]
    },
    {
      "cell_type": "code",
      "execution_count": null,
      "id": "7fffd8f4",
      "metadata": {
        "id": "7fffd8f4"
      },
      "outputs": [],
      "source": [
        "#Final Test with survey data \n",
        "HD = pd.read_csv(\"gdrive/My Drive/HD_Project/HD.csv\")\n",
        "surveyTest = pd.read_excel(\"sheetdata\")\n",
        "\n",
        "#cleaning our suvey data\n",
        "cleanSurvey = surveyTest.drop(columns = ['Timestamp'])\n",
        "cleanSurvey.columns.values[[0, 1 ,2, 3, 4, 5]] = [\"homework_stress\", \"day_rating\",\n",
        "                                               'cups_coffee', 'workout', \n",
        "                                                'count_meals', 'hours_sleep']\n",
        "#cleaning our healthData \n",
        "cleanHD = HD.drop(columns = ['Respiratory Rate (count/min)'])\n",
        "cleanHD = cleanHD.loc[(cleanHD['Date'] >= '2022-02-19 00:00:00')]\n",
        "cleanHD['Date'] = pd.to_datetime(cleanHD['Date'])\n",
        "\n",
        "#concatenating our health data into a final dataframe\n",
        "cleanHD = cleanHD.reset_index().drop(columns='index')\n",
        "finalDF = pd.concat([cleanHD, cleanSurvey], axis=1)"
      ]
    },
    {
      "cell_type": "code",
      "execution_count": null,
      "id": "3a68540b",
      "metadata": {
        "id": "3a68540b"
      },
      "outputs": [],
      "source": [
        "#functions that will detect visualize and graph outliers \n",
        "def count_outliers (df_column, num_stdev = 3):\n",
        "    std = np.std(df_column)\n",
        "    lower_bound = np.mean(df_column) - (std * num_stdev)\n",
        "    upper_bound = np.mean(df_column) + (std * num_stdev)\n",
        "    return [1 if value >= upper_bound or value <= lower_bound else 0 for value in df_column]\n",
        "\n",
        "#detecting outliers with IQR\n",
        "def IQR(column): \n",
        "    median = np.median(column)\n",
        "    quartile_1 = np.quantile(column, .25)\n",
        "    quartile_3 = np.quantile(column, .75)\n",
        "    IQR = quartile_3 - quartile_1\n",
        "    ue = quartile_3 + (1.5 * IQR)\n",
        "    le = quartile_1 - (1.5 * IQR)\n",
        "    return [1 if value >= ue or value <= le else 0 for value in column]\n",
        "    \n",
        "#used to detect return a summary of outliers in our dataset and which columns they are located in\n",
        "#before using must, input only numeric data \n",
        "def outliers_summary(df, std_dev = 3):\n",
        "    for i in df:\n",
        "        try:\n",
        "            out = sum(count_outliers(df[i], std_dev))\n",
        "            print(f\"{i.upper()}: {out}\")\n",
        "        except TypeError:\n",
        "            print(f\"{i.upper()} IS A STRING / OBJECT VALUE, FIX OR IGNORE\")\n",
        "\n",
        "def quart_summary(df):\n",
        "    for i in df:\n",
        "        try:\n",
        "            out = sum(IQR(df[i]))\n",
        "            print(f\"{i}: {out}\")\n",
        "        except TypeError:\n",
        "            print(f\"{i} IS A STRING / OBJECT VALUE, FIX OR IGNORE\")"
      ]
    },
    {
      "cell_type": "code",
      "execution_count": null,
      "id": "e544dc06",
      "metadata": {
        "id": "e544dc06"
      },
      "outputs": [],
      "source": [
        "finalDF = finalDF.dropna(axis = 1, how='any')"
      ]
    }
  ],
  "metadata": {
    "kernelspec": {
      "display_name": "Python 3 (ipykernel)",
      "language": "python",
      "name": "python3"
    },
    "language_info": {
      "codemirror_mode": {
        "name": "ipython",
        "version": 3
      },
      "file_extension": ".py",
      "mimetype": "text/x-python",
      "name": "python",
      "nbconvert_exporter": "python",
      "pygments_lexer": "ipython3",
      "version": "3.9.6"
    },
    "colab": {
      "name": "HD-ETL-Script.ipynb",
      "provenance": [],
      "collapsed_sections": [],
      "include_colab_link": true
    }
  },
  "nbformat": 4,
  "nbformat_minor": 5
}
